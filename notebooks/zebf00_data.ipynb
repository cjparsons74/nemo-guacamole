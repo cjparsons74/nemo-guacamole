{
 "cells": [
  {
   "cell_type": "code",
   "execution_count": null,
   "id": "3d03228b-e1f4-4017-89cd-c7bab50c8509",
   "metadata": {
    "collapsed": false
   },
   "outputs": [],
   "source": []
  }
 ],
 "metadata": {
  "kernelspec": {
   "argv": [
    "/camp/lab/schaefera/working/duuta/.conda/envs/xterize-spont-activity/bin/python",
    "-m",
    "ipykernel_launcher",
    "-f",
    "{connection_file}"
   ],
   "display_name": "Python 3",
   "env": null,
   "interrupt_mode": "signal",
   "language": "python",
   "metadata": null,
   "name": "python3"
  },
  "name": "Untitled.ipynb"
 },
 "nbformat": 4,
 "nbformat_minor": 5
}
